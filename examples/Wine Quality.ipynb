{
 "cells": [
  {
   "cell_type": "markdown",
   "id": "463660a3-81ff-4d30-be1a-93ba3adb0a7c",
   "metadata": {},
   "source": [
    "### 📥 Load the Wine Quality Dataset\r\n",
    "\r\n",
    "We start by loading the **Wine Quality** dataset from the [UCI Machine Learning Repository](https://archive.ics.uci.edu/), using the `fetch_ucirepo` function. This dataset contains physicochemical properties of red and white wines, along with a quality score (typically between 0 and 10) assigned by wine taster\n",
    "\n",
    "- X contains the input features (e.g., acidity, sugar, alcohol).\n",
    "\n",
    "- y contains the target variable (wine quality score).s.\r\n"
   ]
  },
  {
   "cell_type": "code",
   "execution_count": 1,
   "id": "74dae82a-fd22-4527-a877-790770cdf74b",
   "metadata": {},
   "outputs": [],
   "source": [
    "from ucimlrepo import fetch_ucirepo\n",
    "import sys\n",
    "import os\n",
    "sys.path.append(os.path.abspath('..'))\n",
    "from dropkan.DropKAN import DropKAN\n",
    "from dropkan.DropKANLayer import DropKANLayer\n",
    "import torch\n",
    "import torch.nn as nn\n",
    "import numpy as np\n",
    "import random\n",
    "import pandas as pd \n",
    "from sklearn.model_selection import train_test_split\n",
    "from sklearn.preprocessing import StandardScaler\n",
    "import matplotlib.pyplot as plt\n",
    "from sklearn.metrics import mean_absolute_error\n",
    "\n",
    "def set_training_mode(module, mode):\n",
    "    \"\"\"Set the training mode for a module and all its sub-modules.\"\"\"\n",
    "    module.training = mode\n",
    "    for submodule in module.children():\n",
    "        set_training_mode(submodule, mode)"
   ]
  },
  {
   "cell_type": "code",
   "execution_count": 2,
   "id": "33b6fc58-b8d3-4226-a215-85f726f10052",
   "metadata": {},
   "outputs": [],
   "source": [
    "wine_quality = fetch_ucirepo(id=186) \n",
    "  \n",
    "X = wine_quality.data.features \n",
    "y = wine_quality.data.targets \n"
   ]
  },
  {
   "cell_type": "markdown",
   "id": "5c87e829-3e6f-452b-af2f-6ccfc6e4ac95",
   "metadata": {},
   "source": [
    "### 🧪 Train-Test Split & Feature Scaling\n",
    "\n",
    "We split the dataset into training and testing sets using an 60/40 split. A fixed `random_state` is used to ensure reproducibility.\n",
    "\n",
    "After splitting, we apply **standardization** to the features using `StandardScaler`, which transforms the data to have zero mean and unit variance. \n",
    "\n",
    "\r\n",
    "We prepare the dataset for training by converting the NumPy arrays (from `scikit-learn`) into PyTorch tensors. This is required for compatibility with PyTorch-based models like KAN and DropKAN.\r\n"
   ]
  },
  {
   "cell_type": "code",
   "execution_count": 3,
   "id": "b4edf339-2d85-4251-861e-7f9eed7c2ea9",
   "metadata": {},
   "outputs": [],
   "source": [
    "X_train, X_test, y_train, y_test = train_test_split(\n",
    "    X, y, test_size=0.2, random_state=42  \n",
    ")\n",
    "\n",
    "\n",
    "scaler = StandardScaler()\n",
    "X_train = scaler.fit_transform(X_train)  \n",
    "X_test = scaler.transform(X_test)        \n",
    "\n",
    "dataset = {}\n",
    "dataset['train_input'] = torch.from_numpy(X_train).float()\n",
    "dataset['test_input'] = torch.from_numpy(X_test).float()\n",
    "dataset['train_label'] = torch.from_numpy(y_train.values)\n",
    "dataset['test_label'] = torch.from_numpy(y_test.values)\n"
   ]
  },
  {
   "cell_type": "markdown",
   "id": "9f6c3332-f558-4fa5-8072-f2717eda4b00",
   "metadata": {},
   "source": [
    "### Training and Evaluating the DropKAN Model\r\n",
    "\r\n",
    "- Optimizer: Adam\r\n",
    "- Loss function: L1 loss (Mean Absolute Error)\r\n",
    "- Batch size: 32\r\n",
    "- Learning rate: 0.01\r\n",
    "- Number of epochs: 10\r\n",
    "\r\n",
    "After training, the model is evaluated on the test set, and the Mean Absolute Error (MAE) is recorded.s recorded.\r\n"
   ]
  },
  {
   "cell_type": "code",
   "execution_count": 6,
   "id": "13465e89-7094-481a-bc25-64359b4c9d01",
   "metadata": {},
   "outputs": [
    {
     "name": "stderr",
     "output_type": "stream",
     "text": [
      "description: 100%|█████████████████████████████████████████████| 1620/1620 [00:15<00:00, 101.49it/s]"
     ]
    },
    {
     "name": "stdout",
     "output_type": "stream",
     "text": [
      "mode=DropKAN | test=0.5649\n"
     ]
    },
    {
     "name": "stderr",
     "output_type": "stream",
     "text": [
      "\n"
     ]
    }
   ],
   "source": [
    "drop_rate = 0.3\n",
    "epochs = 10\n",
    "batch = 32\n",
    "steps = int(len(X_train) / batch) * epochs\n",
    "\n",
    "# Initialize model\n",
    "model = DropKAN(seed=0, width=[X_train.shape[1], X_train.shape[1]*2, 1], drop_rate=drop_rate, drop_mode='postact')\n",
    "\n",
    "# Train\n",
    "model.train(dataset, opt=\"Adam\", steps=steps, batch=batch, lr=0.01, loss_fn=torch.nn.L1Loss())\n",
    "\n",
    "# Evaluation\n",
    "set_training_mode(model, False)\n",
    "\n",
    "y_pred = model(dataset['test_input']).detach().numpy()\n",
    "mae = mean_absolute_error(y_test, y_pred)\n",
    "print(f\"mode=DropKAN | test={mae:.4f}\")\n",
    "\n"
   ]
  },
  {
   "cell_type": "markdown",
   "id": "0b0a60f1-f014-4194-b027-19259f1e759c",
   "metadata": {},
   "source": []
  },
  {
   "cell_type": "code",
   "execution_count": null,
   "id": "9dd5dc66-bb7c-4c2d-8e16-886ebcc4c1e8",
   "metadata": {},
   "outputs": [],
   "source": []
  },
  {
   "cell_type": "code",
   "execution_count": null,
   "id": "2956082d-e137-47cd-9822-3894b4b899d4",
   "metadata": {},
   "outputs": [],
   "source": []
  },
  {
   "cell_type": "code",
   "execution_count": null,
   "id": "9f3b9150-7ff1-4c86-9b7d-a7a033702fcb",
   "metadata": {},
   "outputs": [],
   "source": []
  },
  {
   "cell_type": "code",
   "execution_count": null,
   "id": "847f90ec-6803-4c01-9489-46a99a528b43",
   "metadata": {},
   "outputs": [],
   "source": []
  },
  {
   "cell_type": "code",
   "execution_count": null,
   "id": "5098ae72-376c-487f-a3d9-b13b32ddd168",
   "metadata": {},
   "outputs": [],
   "source": []
  }
 ],
 "metadata": {
  "kernelspec": {
   "display_name": "Python 3 (ipykernel)",
   "language": "python",
   "name": "python3"
  },
  "language_info": {
   "codemirror_mode": {
    "name": "ipython",
    "version": 3
   },
   "file_extension": ".py",
   "mimetype": "text/x-python",
   "name": "python",
   "nbconvert_exporter": "python",
   "pygments_lexer": "ipython3",
   "version": "3.8.19"
  }
 },
 "nbformat": 4,
 "nbformat_minor": 5
}
